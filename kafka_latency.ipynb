{
  "nbformat": 4,
  "nbformat_minor": 0,
  "metadata": {
    "colab": {
      "name": "kafka latency.ipynb",
      "provenance": [],
      "authorship_tag": "ABX9TyOta2g8BUuxGKmMVlgfLZa+",
      "include_colab_link": true
    },
    "kernelspec": {
      "name": "python3",
      "display_name": "Python 3"
    },
    "language_info": {
      "name": "python"
    }
  },
  "cells": [
    {
      "cell_type": "markdown",
      "metadata": {
        "id": "view-in-github",
        "colab_type": "text"
      },
      "source": [
        "<a href=\"https://colab.research.google.com/github/yvuldzhev/Azure-HDInsight-Kafka/blob/master/kafka_latency.ipynb\" target=\"_parent\"><img src=\"https://colab.research.google.com/assets/colab-badge.svg\" alt=\"Open In Colab\"/></a>"
      ]
    },
    {
      "cell_type": "code",
      "metadata": {
        "colab": {
          "base_uri": "https://localhost:8080/",
          "height": 419
        },
        "id": "GvtHGlKFY-u0",
        "outputId": "e9a3ecf3-e30d-4981-c22a-580c10e77062"
      },
      "source": [
        "import numpy as np\n",
        "import pandas as pd\n",
        "import matplotlib.pyplot as plt\n",
        "\n",
        "#dataframe= pd.read_csv(\"lettera.csv\", delimiter=','sep=r', ') \n",
        "data = pd.read_csv(\"/content/big_results.csv\", delimiter=',')\n",
        "data"
      ],
      "execution_count": 36,
      "outputs": [
        {
          "output_type": "execute_result",
          "data": {
            "text/html": [
              "<div>\n",
              "<style scoped>\n",
              "    .dataframe tbody tr th:only-of-type {\n",
              "        vertical-align: middle;\n",
              "    }\n",
              "\n",
              "    .dataframe tbody tr th {\n",
              "        vertical-align: top;\n",
              "    }\n",
              "\n",
              "    .dataframe thead th {\n",
              "        text-align: right;\n",
              "    }\n",
              "</style>\n",
              "<table border=\"1\" class=\"dataframe\">\n",
              "  <thead>\n",
              "    <tr style=\"text-align: right;\">\n",
              "      <th></th>\n",
              "      <th>topic</th>\n",
              "      <th>created</th>\n",
              "      <th>received</th>\n",
              "      <th>latency</th>\n",
              "    </tr>\n",
              "  </thead>\n",
              "  <tbody>\n",
              "    <tr>\n",
              "      <th>0</th>\n",
              "      <td>orders</td>\n",
              "      <td>1622651189001</td>\n",
              "      <td>1622651189095</td>\n",
              "      <td>94</td>\n",
              "    </tr>\n",
              "    <tr>\n",
              "      <th>1</th>\n",
              "      <td>orders</td>\n",
              "      <td>1622651190235</td>\n",
              "      <td>1622651190298</td>\n",
              "      <td>63</td>\n",
              "    </tr>\n",
              "    <tr>\n",
              "      <th>2</th>\n",
              "      <td>orders</td>\n",
              "      <td>1622651190298</td>\n",
              "      <td>1622651190360</td>\n",
              "      <td>62</td>\n",
              "    </tr>\n",
              "    <tr>\n",
              "      <th>3</th>\n",
              "      <td>orders</td>\n",
              "      <td>1622651190360</td>\n",
              "      <td>1622651190423</td>\n",
              "      <td>63</td>\n",
              "    </tr>\n",
              "    <tr>\n",
              "      <th>4</th>\n",
              "      <td>orders</td>\n",
              "      <td>1622651190423</td>\n",
              "      <td>1622651190485</td>\n",
              "      <td>62</td>\n",
              "    </tr>\n",
              "    <tr>\n",
              "      <th>...</th>\n",
              "      <td>...</td>\n",
              "      <td>...</td>\n",
              "      <td>...</td>\n",
              "      <td>...</td>\n",
              "    </tr>\n",
              "    <tr>\n",
              "      <th>5995</th>\n",
              "      <td>orders</td>\n",
              "      <td>1622651414917</td>\n",
              "      <td>1622651414980</td>\n",
              "      <td>63</td>\n",
              "    </tr>\n",
              "    <tr>\n",
              "      <th>5996</th>\n",
              "      <td>orders</td>\n",
              "      <td>1622651414995</td>\n",
              "      <td>1622651415058</td>\n",
              "      <td>63</td>\n",
              "    </tr>\n",
              "    <tr>\n",
              "      <th>5997</th>\n",
              "      <td>orders</td>\n",
              "      <td>1622651415058</td>\n",
              "      <td>1622651415105</td>\n",
              "      <td>47</td>\n",
              "    </tr>\n",
              "    <tr>\n",
              "      <th>5998</th>\n",
              "      <td>orders</td>\n",
              "      <td>1622651415105</td>\n",
              "      <td>1622651415183</td>\n",
              "      <td>78</td>\n",
              "    </tr>\n",
              "    <tr>\n",
              "      <th>5999</th>\n",
              "      <td>orders</td>\n",
              "      <td>1622651415183</td>\n",
              "      <td>1622651415245</td>\n",
              "      <td>62</td>\n",
              "    </tr>\n",
              "  </tbody>\n",
              "</table>\n",
              "<p>6000 rows × 4 columns</p>\n",
              "</div>"
            ],
            "text/plain": [
              "       topic        created       received  latency\n",
              "0     orders  1622651189001  1622651189095       94\n",
              "1     orders  1622651190235  1622651190298       63\n",
              "2     orders  1622651190298  1622651190360       62\n",
              "3     orders  1622651190360  1622651190423       63\n",
              "4     orders  1622651190423  1622651190485       62\n",
              "...      ...            ...            ...      ...\n",
              "5995  orders  1622651414917  1622651414980       63\n",
              "5996  orders  1622651414995  1622651415058       63\n",
              "5997  orders  1622651415058  1622651415105       47\n",
              "5998  orders  1622651415105  1622651415183       78\n",
              "5999  orders  1622651415183  1622651415245       62\n",
              "\n",
              "[6000 rows x 4 columns]"
            ]
          },
          "metadata": {
            "tags": []
          },
          "execution_count": 36
        }
      ]
    },
    {
      "cell_type": "code",
      "metadata": {
        "colab": {
          "base_uri": "https://localhost:8080/",
          "height": 419
        },
        "id": "xrfkGtkHdoap",
        "outputId": "2176cec8-5703-4091-933c-2c621a87beff"
      },
      "source": [
        "df=pd.DataFrame(data)\n",
        "df"
      ],
      "execution_count": 37,
      "outputs": [
        {
          "output_type": "execute_result",
          "data": {
            "text/html": [
              "<div>\n",
              "<style scoped>\n",
              "    .dataframe tbody tr th:only-of-type {\n",
              "        vertical-align: middle;\n",
              "    }\n",
              "\n",
              "    .dataframe tbody tr th {\n",
              "        vertical-align: top;\n",
              "    }\n",
              "\n",
              "    .dataframe thead th {\n",
              "        text-align: right;\n",
              "    }\n",
              "</style>\n",
              "<table border=\"1\" class=\"dataframe\">\n",
              "  <thead>\n",
              "    <tr style=\"text-align: right;\">\n",
              "      <th></th>\n",
              "      <th>topic</th>\n",
              "      <th>created</th>\n",
              "      <th>received</th>\n",
              "      <th>latency</th>\n",
              "    </tr>\n",
              "  </thead>\n",
              "  <tbody>\n",
              "    <tr>\n",
              "      <th>0</th>\n",
              "      <td>orders</td>\n",
              "      <td>1622651189001</td>\n",
              "      <td>1622651189095</td>\n",
              "      <td>94</td>\n",
              "    </tr>\n",
              "    <tr>\n",
              "      <th>1</th>\n",
              "      <td>orders</td>\n",
              "      <td>1622651190235</td>\n",
              "      <td>1622651190298</td>\n",
              "      <td>63</td>\n",
              "    </tr>\n",
              "    <tr>\n",
              "      <th>2</th>\n",
              "      <td>orders</td>\n",
              "      <td>1622651190298</td>\n",
              "      <td>1622651190360</td>\n",
              "      <td>62</td>\n",
              "    </tr>\n",
              "    <tr>\n",
              "      <th>3</th>\n",
              "      <td>orders</td>\n",
              "      <td>1622651190360</td>\n",
              "      <td>1622651190423</td>\n",
              "      <td>63</td>\n",
              "    </tr>\n",
              "    <tr>\n",
              "      <th>4</th>\n",
              "      <td>orders</td>\n",
              "      <td>1622651190423</td>\n",
              "      <td>1622651190485</td>\n",
              "      <td>62</td>\n",
              "    </tr>\n",
              "    <tr>\n",
              "      <th>...</th>\n",
              "      <td>...</td>\n",
              "      <td>...</td>\n",
              "      <td>...</td>\n",
              "      <td>...</td>\n",
              "    </tr>\n",
              "    <tr>\n",
              "      <th>5995</th>\n",
              "      <td>orders</td>\n",
              "      <td>1622651414917</td>\n",
              "      <td>1622651414980</td>\n",
              "      <td>63</td>\n",
              "    </tr>\n",
              "    <tr>\n",
              "      <th>5996</th>\n",
              "      <td>orders</td>\n",
              "      <td>1622651414995</td>\n",
              "      <td>1622651415058</td>\n",
              "      <td>63</td>\n",
              "    </tr>\n",
              "    <tr>\n",
              "      <th>5997</th>\n",
              "      <td>orders</td>\n",
              "      <td>1622651415058</td>\n",
              "      <td>1622651415105</td>\n",
              "      <td>47</td>\n",
              "    </tr>\n",
              "    <tr>\n",
              "      <th>5998</th>\n",
              "      <td>orders</td>\n",
              "      <td>1622651415105</td>\n",
              "      <td>1622651415183</td>\n",
              "      <td>78</td>\n",
              "    </tr>\n",
              "    <tr>\n",
              "      <th>5999</th>\n",
              "      <td>orders</td>\n",
              "      <td>1622651415183</td>\n",
              "      <td>1622651415245</td>\n",
              "      <td>62</td>\n",
              "    </tr>\n",
              "  </tbody>\n",
              "</table>\n",
              "<p>6000 rows × 4 columns</p>\n",
              "</div>"
            ],
            "text/plain": [
              "       topic        created       received  latency\n",
              "0     orders  1622651189001  1622651189095       94\n",
              "1     orders  1622651190235  1622651190298       63\n",
              "2     orders  1622651190298  1622651190360       62\n",
              "3     orders  1622651190360  1622651190423       63\n",
              "4     orders  1622651190423  1622651190485       62\n",
              "...      ...            ...            ...      ...\n",
              "5995  orders  1622651414917  1622651414980       63\n",
              "5996  orders  1622651414995  1622651415058       63\n",
              "5997  orders  1622651415058  1622651415105       47\n",
              "5998  orders  1622651415105  1622651415183       78\n",
              "5999  orders  1622651415183  1622651415245       62\n",
              "\n",
              "[6000 rows x 4 columns]"
            ]
          },
          "metadata": {
            "tags": []
          },
          "execution_count": 37
        }
      ]
    },
    {
      "cell_type": "code",
      "metadata": {
        "colab": {
          "base_uri": "https://localhost:8080/"
        },
        "id": "eKpTn1EPd0FN",
        "outputId": "71e648c9-675d-4b58-e751-a092f1f34ccc"
      },
      "source": [
        "df.describe"
      ],
      "execution_count": 38,
      "outputs": [
        {
          "output_type": "execute_result",
          "data": {
            "text/plain": [
              "<bound method NDFrame.describe of        topic        created       received  latency\n",
              "0     orders  1622651189001  1622651189095       94\n",
              "1     orders  1622651190235  1622651190298       63\n",
              "2     orders  1622651190298  1622651190360       62\n",
              "3     orders  1622651190360  1622651190423       63\n",
              "4     orders  1622651190423  1622651190485       62\n",
              "...      ...            ...            ...      ...\n",
              "5995  orders  1622651414917  1622651414980       63\n",
              "5996  orders  1622651414995  1622651415058       63\n",
              "5997  orders  1622651415058  1622651415105       47\n",
              "5998  orders  1622651415105  1622651415183       78\n",
              "5999  orders  1622651415183  1622651415245       62\n",
              "\n",
              "[6000 rows x 4 columns]>"
            ]
          },
          "metadata": {
            "tags": []
          },
          "execution_count": 38
        }
      ]
    },
    {
      "cell_type": "code",
      "metadata": {
        "colab": {
          "base_uri": "https://localhost:8080/"
        },
        "id": "UhYCjt8jfHzk",
        "outputId": "d94beb2a-5eaf-4e4b-a4dc-6b667040f195"
      },
      "source": [
        "df.columns = df.columns.str.replace(' ', '')\n",
        "df.columns"
      ],
      "execution_count": 42,
      "outputs": [
        {
          "output_type": "execute_result",
          "data": {
            "text/plain": [
              "Index(['topic', 'created', 'received', 'latency'], dtype='object')"
            ]
          },
          "metadata": {
            "tags": []
          },
          "execution_count": 42
        }
      ]
    },
    {
      "cell_type": "code",
      "metadata": {
        "id": "-a52hvLopVXS"
      },
      "source": [
        "df['latency'] = df['latency'].astype(float)"
      ],
      "execution_count": 59,
      "outputs": []
    },
    {
      "cell_type": "code",
      "metadata": {
        "colab": {
          "base_uri": "https://localhost:8080/"
        },
        "id": "xmZ_xkeUlMYN",
        "outputId": "08055ce5-6a43-4dc4-c56e-efed2ad43456"
      },
      "source": [
        "q95 = df[\"latency\"].quantile(0.95)\n",
        "q95"
      ],
      "execution_count": 60,
      "outputs": [
        {
          "output_type": "execute_result",
          "data": {
            "text/plain": [
              "79.0"
            ]
          },
          "metadata": {
            "tags": []
          },
          "execution_count": 60
        }
      ]
    },
    {
      "cell_type": "code",
      "metadata": {
        "colab": {
          "base_uri": "https://localhost:8080/"
        },
        "id": "HpxGRlhPnCYO",
        "outputId": "86999de8-f54d-4cb3-cacb-5b222f6bbb17"
      },
      "source": [
        "q50 = df[\"latency\"].quantile(0.50)\n",
        "q50"
      ],
      "execution_count": 61,
      "outputs": [
        {
          "output_type": "execute_result",
          "data": {
            "text/plain": [
              "63.0"
            ]
          },
          "metadata": {
            "tags": []
          },
          "execution_count": 61
        }
      ]
    },
    {
      "cell_type": "code",
      "metadata": {
        "colab": {
          "base_uri": "https://localhost:8080/",
          "height": 530
        },
        "id": "AXVDDC8frGcF",
        "outputId": "381cb17d-485c-423d-ca69-6407bb8f6f60"
      },
      "source": [
        "features = [\"latency\"]\n",
        "df[features].hist(figsize=(30, 10));"
      ],
      "execution_count": 67,
      "outputs": [
        {
          "output_type": "display_data",
          "data": {
            "image/png": "[encoded data removed]",
            "text/plain": [
              "<Figure size 2160x720 with 1 Axes>"
            ]
          },
          "metadata": {
            "tags": [],
            "needs_background": "light"
          }
        }
      ]
    },
    {
      "cell_type": "code",
      "metadata": {
        "id": "T7xem8zkn5oc"
      },
      "source": [
        "lower = df.latency.quantile(.05)\n",
        "upper = df.latency.quantile(.95)\n",
        "\n",
        "df_filtered = df[(df[\"latency\"] < upper) & (df[\"latency\"] > lower)]"
      ],
      "execution_count": 65,
      "outputs": []
    },
    {
      "cell_type": "code",
      "metadata": {
        "colab": {
          "base_uri": "https://localhost:8080/",
          "height": 531
        },
        "id": "8HFS7KwBaCHp",
        "outputId": "b10de9cf-6cf1-4085-9306-e9265810c089"
      },
      "source": [
        "features = [\"latency\"]\n",
        "df_filtered[features].hist(figsize=(30, 10));"
      ],
      "execution_count": 66,
      "outputs": [
        {
          "output_type": "display_data",
          "data": {
            "image/png": "[encoded data removed]",
            "text/plain": [
              "<Figure size 2160x720 with 1 Axes>"
            ]
          },
          "metadata": {
            "tags": [],
            "needs_background": "light"
          }
        }
      ]
    },
    {
      "cell_type": "code",
      "metadata": {
        "colab": {
          "base_uri": "https://localhost:8080/",
          "height": 532
        },
        "id": "TYF6Ar74aVD_",
        "outputId": "fbeb08ba-ef4e-451b-efb7-c52104926530"
      },
      "source": [
        "#df.plot(figsize=[30,10]).bar(y='latency', x='received')\n",
        "#df.plot(kind='bar',figsize=(30,15)).bar(y='latency', x='received')\n",
        "df.plot.bar(x='received', y='latency', rot=0, figsize=(30, 10))"
      ],
      "execution_count": 75,
      "outputs": [
        {
          "output_type": "execute_result",
          "data": {
            "text/plain": [
              "<matplotlib.axes._subplots.AxesSubplot at 0x7f8cb5c4ba10>"
            ]
          },
          "metadata": {
            "tags": []
          },
          "execution_count": 75
        },
        {
          "output_type": "display_data",
          "data": {
            "image/png": "[encoded data removed]",
            "text/plain": [
              "<Figure size 2160x720 with 1 Axes>"
            ]
          },
          "metadata": {
            "tags": [],
            "needs_background": "light"
          }
        }
      ]
    },
    {
      "cell_type": "code",
      "metadata": {
        "id": "t0gNF1_HgONU"
      },
      "source": [
        ""
      ],
      "execution_count": null,
      "outputs": []
    }
  ]
}