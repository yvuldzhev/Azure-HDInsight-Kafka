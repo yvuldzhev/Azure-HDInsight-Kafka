{
  "nbformat": 4,
  "nbformat_minor": 0,
  "metadata": {
    "colab": {
      "name": "kafka latency.ipynb",
      "provenance": [],
      "authorship_tag": "ABX9TyONPhy1UFu3gYrvpw3vhM3E",
      "include_colab_link": true
    },
    "kernelspec": {
      "name": "python3",
      "display_name": "Python 3"
    },
    "language_info": {
      "name": "python"
    }
  },
  "cells": [
    {
      "cell_type": "markdown",
      "metadata": {
        "id": "view-in-github",
        "colab_type": "text"
      },
      "source": [
        "<a href=\"https://colab.research.google.com/github/yvuldzhev/Azure-HDInsight-Kafka/blob/master/kafka_latency_7prod.ipynb\" target=\"_parent\"><img src=\"https://colab.research.google.com/assets/colab-badge.svg\" alt=\"Open In Colab\"/></a>"
      ]
    },
    {
      "cell_type": "code",
      "metadata": {
        "colab": {
          "base_uri": "https://localhost:8080/",
          "height": 419
        },
        "id": "GvtHGlKFY-u0",
        "outputId": "20d3f0f1-facb-4f9d-a2a2-ed669017e947"
      },
      "source": [
        "import numpy as np\n",
        "import pandas as pd\n",
        "import matplotlib.pyplot as plt\n",
        "\n",
        "#dataframe= pd.read_csv(\"lettera.csv\", delimiter=','sep=r', ') \n",
        "data = pd.read_csv(\"/content/7prods2.csv\", delimiter=',')\n",
        "data"
      ],
      "execution_count": 16,
      "outputs": [
        {
          "output_type": "execute_result",
          "data": {
            "text/html": [
              "<div>\n",
              "<style scoped>\n",
              "    .dataframe tbody tr th:only-of-type {\n",
              "        vertical-align: middle;\n",
              "    }\n",
              "\n",
              "    .dataframe tbody tr th {\n",
              "        vertical-align: top;\n",
              "    }\n",
              "\n",
              "    .dataframe thead th {\n",
              "        text-align: right;\n",
              "    }\n",
              "</style>\n",
              "<table border=\"1\" class=\"dataframe\">\n",
              "  <thead>\n",
              "    <tr style=\"text-align: right;\">\n",
              "      <th></th>\n",
              "      <th>topic</th>\n",
              "      <th>created</th>\n",
              "      <th>received</th>\n",
              "      <th>latency</th>\n",
              "    </tr>\n",
              "  </thead>\n",
              "  <tbody>\n",
              "    <tr>\n",
              "      <th>0</th>\n",
              "      <td>contracts</td>\n",
              "      <td>1622704146890</td>\n",
              "      <td>1622704146952</td>\n",
              "      <td>62</td>\n",
              "    </tr>\n",
              "    <tr>\n",
              "      <th>1</th>\n",
              "      <td>contracts</td>\n",
              "      <td>1622704146890</td>\n",
              "      <td>1622704146952</td>\n",
              "      <td>62</td>\n",
              "    </tr>\n",
              "    <tr>\n",
              "      <th>2</th>\n",
              "      <td>orders</td>\n",
              "      <td>1622704146905</td>\n",
              "      <td>1622704146952</td>\n",
              "      <td>47</td>\n",
              "    </tr>\n",
              "    <tr>\n",
              "      <th>3</th>\n",
              "      <td>orders</td>\n",
              "      <td>1622704146905</td>\n",
              "      <td>1622704146968</td>\n",
              "      <td>63</td>\n",
              "    </tr>\n",
              "    <tr>\n",
              "      <th>4</th>\n",
              "      <td>contracts</td>\n",
              "      <td>1622704146921</td>\n",
              "      <td>1622704146968</td>\n",
              "      <td>47</td>\n",
              "    </tr>\n",
              "    <tr>\n",
              "      <th>...</th>\n",
              "      <td>...</td>\n",
              "      <td>...</td>\n",
              "      <td>...</td>\n",
              "      <td>...</td>\n",
              "    </tr>\n",
              "    <tr>\n",
              "      <th>8995</th>\n",
              "      <td>orders</td>\n",
              "      <td>1622704288848</td>\n",
              "      <td>1622704288926</td>\n",
              "      <td>78</td>\n",
              "    </tr>\n",
              "    <tr>\n",
              "      <th>8996</th>\n",
              "      <td>orders</td>\n",
              "      <td>1622704288926</td>\n",
              "      <td>1622704288973</td>\n",
              "      <td>47</td>\n",
              "    </tr>\n",
              "    <tr>\n",
              "      <th>8997</th>\n",
              "      <td>orders</td>\n",
              "      <td>1622704288973</td>\n",
              "      <td>1622704289035</td>\n",
              "      <td>62</td>\n",
              "    </tr>\n",
              "    <tr>\n",
              "      <th>8998</th>\n",
              "      <td>orders</td>\n",
              "      <td>1622704289035</td>\n",
              "      <td>1622704289113</td>\n",
              "      <td>78</td>\n",
              "    </tr>\n",
              "    <tr>\n",
              "      <th>8999</th>\n",
              "      <td>orders</td>\n",
              "      <td>1622704289113</td>\n",
              "      <td>1622704289160</td>\n",
              "      <td>47</td>\n",
              "    </tr>\n",
              "  </tbody>\n",
              "</table>\n",
              "<p>9000 rows × 4 columns</p>\n",
              "</div>"
            ],
            "text/plain": [
              "          topic        created       received  latency\n",
              "0     contracts  1622704146890  1622704146952       62\n",
              "1     contracts  1622704146890  1622704146952       62\n",
              "2        orders  1622704146905  1622704146952       47\n",
              "3        orders  1622704146905  1622704146968       63\n",
              "4     contracts  1622704146921  1622704146968       47\n",
              "...         ...            ...            ...      ...\n",
              "8995     orders  1622704288848  1622704288926       78\n",
              "8996     orders  1622704288926  1622704288973       47\n",
              "8997     orders  1622704288973  1622704289035       62\n",
              "8998     orders  1622704289035  1622704289113       78\n",
              "8999     orders  1622704289113  1622704289160       47\n",
              "\n",
              "[9000 rows x 4 columns]"
            ]
          },
          "metadata": {
            "tags": []
          },
          "execution_count": 16
        }
      ]
    },
    {
      "cell_type": "code",
      "metadata": {
        "colab": {
          "base_uri": "https://localhost:8080/",
          "height": 419
        },
        "id": "xrfkGtkHdoap",
        "outputId": "1a0386de-e5c5-4a99-88b6-2cf41fd66ef4"
      },
      "source": [
        "df=pd.DataFrame(data)\n",
        "df"
      ],
      "execution_count": 17,
      "outputs": [
        {
          "output_type": "execute_result",
          "data": {
            "text/html": [
              "<div>\n",
              "<style scoped>\n",
              "    .dataframe tbody tr th:only-of-type {\n",
              "        vertical-align: middle;\n",
              "    }\n",
              "\n",
              "    .dataframe tbody tr th {\n",
              "        vertical-align: top;\n",
              "    }\n",
              "\n",
              "    .dataframe thead th {\n",
              "        text-align: right;\n",
              "    }\n",
              "</style>\n",
              "<table border=\"1\" class=\"dataframe\">\n",
              "  <thead>\n",
              "    <tr style=\"text-align: right;\">\n",
              "      <th></th>\n",
              "      <th>topic</th>\n",
              "      <th>created</th>\n",
              "      <th>received</th>\n",
              "      <th>latency</th>\n",
              "    </tr>\n",
              "  </thead>\n",
              "  <tbody>\n",
              "    <tr>\n",
              "      <th>0</th>\n",
              "      <td>contracts</td>\n",
              "      <td>1622704146890</td>\n",
              "      <td>1622704146952</td>\n",
              "      <td>62</td>\n",
              "    </tr>\n",
              "    <tr>\n",
              "      <th>1</th>\n",
              "      <td>contracts</td>\n",
              "      <td>1622704146890</td>\n",
              "      <td>1622704146952</td>\n",
              "      <td>62</td>\n",
              "    </tr>\n",
              "    <tr>\n",
              "      <th>2</th>\n",
              "      <td>orders</td>\n",
              "      <td>1622704146905</td>\n",
              "      <td>1622704146952</td>\n",
              "      <td>47</td>\n",
              "    </tr>\n",
              "    <tr>\n",
              "      <th>3</th>\n",
              "      <td>orders</td>\n",
              "      <td>1622704146905</td>\n",
              "      <td>1622704146968</td>\n",
              "      <td>63</td>\n",
              "    </tr>\n",
              "    <tr>\n",
              "      <th>4</th>\n",
              "      <td>contracts</td>\n",
              "      <td>1622704146921</td>\n",
              "      <td>1622704146968</td>\n",
              "      <td>47</td>\n",
              "    </tr>\n",
              "    <tr>\n",
              "      <th>...</th>\n",
              "      <td>...</td>\n",
              "      <td>...</td>\n",
              "      <td>...</td>\n",
              "      <td>...</td>\n",
              "    </tr>\n",
              "    <tr>\n",
              "      <th>8995</th>\n",
              "      <td>orders</td>\n",
              "      <td>1622704288848</td>\n",
              "      <td>1622704288926</td>\n",
              "      <td>78</td>\n",
              "    </tr>\n",
              "    <tr>\n",
              "      <th>8996</th>\n",
              "      <td>orders</td>\n",
              "      <td>1622704288926</td>\n",
              "      <td>1622704288973</td>\n",
              "      <td>47</td>\n",
              "    </tr>\n",
              "    <tr>\n",
              "      <th>8997</th>\n",
              "      <td>orders</td>\n",
              "      <td>1622704288973</td>\n",
              "      <td>1622704289035</td>\n",
              "      <td>62</td>\n",
              "    </tr>\n",
              "    <tr>\n",
              "      <th>8998</th>\n",
              "      <td>orders</td>\n",
              "      <td>1622704289035</td>\n",
              "      <td>1622704289113</td>\n",
              "      <td>78</td>\n",
              "    </tr>\n",
              "    <tr>\n",
              "      <th>8999</th>\n",
              "      <td>orders</td>\n",
              "      <td>1622704289113</td>\n",
              "      <td>1622704289160</td>\n",
              "      <td>47</td>\n",
              "    </tr>\n",
              "  </tbody>\n",
              "</table>\n",
              "<p>9000 rows × 4 columns</p>\n",
              "</div>"
            ],
            "text/plain": [
              "          topic        created       received  latency\n",
              "0     contracts  1622704146890  1622704146952       62\n",
              "1     contracts  1622704146890  1622704146952       62\n",
              "2        orders  1622704146905  1622704146952       47\n",
              "3        orders  1622704146905  1622704146968       63\n",
              "4     contracts  1622704146921  1622704146968       47\n",
              "...         ...            ...            ...      ...\n",
              "8995     orders  1622704288848  1622704288926       78\n",
              "8996     orders  1622704288926  1622704288973       47\n",
              "8997     orders  1622704288973  1622704289035       62\n",
              "8998     orders  1622704289035  1622704289113       78\n",
              "8999     orders  1622704289113  1622704289160       47\n",
              "\n",
              "[9000 rows x 4 columns]"
            ]
          },
          "metadata": {
            "tags": []
          },
          "execution_count": 17
        }
      ]
    },
    {
      "cell_type": "code",
      "metadata": {
        "colab": {
          "base_uri": "https://localhost:8080/"
        },
        "id": "eKpTn1EPd0FN",
        "outputId": "1373fd4a-d6ff-449f-d669-9238e435680a"
      },
      "source": [
        "df.describe"
      ],
      "execution_count": 18,
      "outputs": [
        {
          "output_type": "execute_result",
          "data": {
            "text/plain": [
              "<bound method NDFrame.describe of           topic        created       received  latency\n",
              "0     contracts  1622704146890  1622704146952       62\n",
              "1     contracts  1622704146890  1622704146952       62\n",
              "2        orders  1622704146905  1622704146952       47\n",
              "3        orders  1622704146905  1622704146968       63\n",
              "4     contracts  1622704146921  1622704146968       47\n",
              "...         ...            ...            ...      ...\n",
              "8995     orders  1622704288848  1622704288926       78\n",
              "8996     orders  1622704288926  1622704288973       47\n",
              "8997     orders  1622704288973  1622704289035       62\n",
              "8998     orders  1622704289035  1622704289113       78\n",
              "8999     orders  1622704289113  1622704289160       47\n",
              "\n",
              "[9000 rows x 4 columns]>"
            ]
          },
          "metadata": {
            "tags": []
          },
          "execution_count": 18
        }
      ]
    },
    {
      "cell_type": "code",
      "metadata": {
        "colab": {
          "base_uri": "https://localhost:8080/"
        },
        "id": "UhYCjt8jfHzk",
        "outputId": "a48849d7-3539-422e-f0a7-4ed1f20e9d00"
      },
      "source": [
        "df.columns = df.columns.str.replace(' ', '')\n",
        "df.columns"
      ],
      "execution_count": 19,
      "outputs": [
        {
          "output_type": "execute_result",
          "data": {
            "text/plain": [
              "Index(['topic', 'created', 'received', 'latency'], dtype='object')"
            ]
          },
          "metadata": {
            "tags": []
          },
          "execution_count": 19
        }
      ]
    },
    {
      "cell_type": "code",
      "metadata": {
        "id": "6XUSO_CbwHxl"
      },
      "source": [
        "df['latency'] = df['latency'].astype(float)"
      ],
      "execution_count": 20,
      "outputs": []
    },
    {
      "cell_type": "code",
      "metadata": {
        "colab": {
          "base_uri": "https://localhost:8080/"
        },
        "id": "xmZ_xkeUlMYN",
        "outputId": "dca5aa7a-c595-4f4f-d940-2714fc35edbb"
      },
      "source": [
        "q95 = df[\"latency\"].quantile(0.95)\n",
        "q95"
      ],
      "execution_count": 21,
      "outputs": [
        {
          "output_type": "execute_result",
          "data": {
            "text/plain": [
              "79.0"
            ]
          },
          "metadata": {
            "tags": []
          },
          "execution_count": 21
        }
      ]
    },
    {
      "cell_type": "code",
      "metadata": {
        "colab": {
          "base_uri": "https://localhost:8080/"
        },
        "id": "HpxGRlhPnCYO",
        "outputId": "dff0a859-56ad-43f8-f4c6-8b48d15cf2a5"
      },
      "source": [
        "q50 = df[\"latency\"].quantile(0.50)\n",
        "q50"
      ],
      "execution_count": 22,
      "outputs": [
        {
          "output_type": "execute_result",
          "data": {
            "text/plain": [
              "62.0"
            ]
          },
          "metadata": {
            "tags": []
          },
          "execution_count": 22
        }
      ]
    },
    {
      "cell_type": "code",
      "metadata": {
        "colab": {
          "base_uri": "https://localhost:8080/"
        },
        "id": "zYN63KE72AAK",
        "outputId": "884f3f7f-8811-4380-e2f3-635ee30b9bc9"
      },
      "source": [
        "avg = df['latency'].mean()\n",
        "avg"
      ],
      "execution_count": 28,
      "outputs": [
        {
          "output_type": "execute_result",
          "data": {
            "text/plain": [
              "68.2401111111111"
            ]
          },
          "metadata": {
            "tags": []
          },
          "execution_count": 28
        }
      ]
    },
    {
      "cell_type": "code",
      "metadata": {
        "colab": {
          "base_uri": "https://localhost:8080/"
        },
        "id": "4kr5cWik2_K5",
        "outputId": "f4f264a0-2c2e-42ce-90f0-ac7054318b3d"
      },
      "source": [
        "median = df['latency'].median()\n",
        "median"
      ],
      "execution_count": 32,
      "outputs": [
        {
          "output_type": "execute_result",
          "data": {
            "text/plain": [
              "62.0"
            ]
          },
          "metadata": {
            "tags": []
          },
          "execution_count": 32
        }
      ]
    },
    {
      "cell_type": "code",
      "metadata": {
        "colab": {
          "base_uri": "https://localhost:8080/"
        },
        "id": "ORDGWb2i2Y50",
        "outputId": "eee912bf-4b65-41de-f5eb-1e3028744853"
      },
      "source": [
        "df['latency'].describe(percentiles=[.10, .50, .80, .90, .95, .99])"
      ],
      "execution_count": 31,
      "outputs": [
        {
          "output_type": "execute_result",
          "data": {
            "text/plain": [
              "count    9000.000000\n",
              "mean       68.240111\n",
              "std        50.754026\n",
              "min        16.000000\n",
              "10%        47.000000\n",
              "50%        62.000000\n",
              "80%        78.000000\n",
              "90%        78.000000\n",
              "95%        79.000000\n",
              "99%       375.150000\n",
              "max       672.000000\n",
              "Name: latency, dtype: float64"
            ]
          },
          "metadata": {
            "tags": []
          },
          "execution_count": 31
        }
      ]
    },
    {
      "cell_type": "code",
      "metadata": {
        "colab": {
          "base_uri": "https://localhost:8080/",
          "height": 531
        },
        "id": "AXVDDC8frGcF",
        "outputId": "171a821f-1f42-4a52-f4a9-43f22ec36690"
      },
      "source": [
        "features = [\"latency\"]\n",
        "df[features].hist(figsize=(30, 10));"
      ],
      "execution_count": 23,
      "outputs": [
        {
          "output_type": "display_data",
          "data": {
            "image/png": "[encoded data removed]",
            "text/plain": [
              "<Figure size 2160x720 with 1 Axes>"
            ]
          },
          "metadata": {
            "tags": [],
            "needs_background": "light"
          }
        }
      ]
    },
    {
      "cell_type": "code",
      "metadata": {
        "id": "T7xem8zkn5oc"
      },
      "source": [
        "lower = df.latency.quantile(.05)\n",
        "upper = df.latency.quantile(.95)\n",
        "\n",
        "df_filtered = df[(df[\"latency\"] < upper) & (df[\"latency\"] > lower)]"
      ],
      "execution_count": 24,
      "outputs": []
    },
    {
      "cell_type": "code",
      "metadata": {
        "colab": {
          "base_uri": "https://localhost:8080/",
          "height": 531
        },
        "id": "8HFS7KwBaCHp",
        "outputId": "c6d442c7-f587-4357-e848-309734cd12a8"
      },
      "source": [
        "features = [\"latency\"]\n",
        "df_filtered[features].hist(figsize=(30, 10));"
      ],
      "execution_count": 25,
      "outputs": [
        {
          "output_type": "display_data",
          "data": {
            "image/png": "[encoded data removed]",
            "text/plain": [
              "<Figure size 2160x720 with 1 Axes>"
            ]
          },
          "metadata": {
            "tags": [],
            "needs_background": "light"
          }
        }
      ]
    },
    {
      "cell_type": "code",
      "metadata": {
        "colab": {
          "base_uri": "https://localhost:8080/",
          "height": 532
        },
        "id": "TYF6Ar74aVD_",
        "outputId": "5e762728-e9bb-46ab-c653-b5c9403d2c2f"
      },
      "source": [
        "#df.plot(figsize=[30,10]).bar(y='latency', x='received')\n",
        "#df.plot(kind='bar',figsize=(30,15)).bar(y='latency', x='received')\n",
        "df.plot.bar(x='received', y='latency', rot=0, figsize=(30, 10))"
      ],
      "execution_count": 26,
      "outputs": [
        {
          "output_type": "execute_result",
          "data": {
            "text/plain": [
              "<matplotlib.axes._subplots.AxesSubplot at 0x7ff38cdc50d0>"
            ]
          },
          "metadata": {
            "tags": []
          },
          "execution_count": 26
        },
        {
          "output_type": "display_data",
          "data": {
            "image/png": "[encoded data removed]",
            "text/plain": [
              "<Figure size 2160x720 with 1 Axes>"
            ]
          },
          "metadata": {
            "tags": [],
            "needs_background": "light"
          }
        }
      ]
    },
    {
      "cell_type": "code",
      "metadata": {
        "id": "t0gNF1_HgONU"
      },
      "source": [
        ""
      ],
      "execution_count": 26,
      "outputs": []
    },
    {
      "cell_type": "markdown",
      "metadata": {
        "id": "UvTC8kZ8ufg1"
      },
      "source": [
        "# New Section"
      ]
    }
  ]
}